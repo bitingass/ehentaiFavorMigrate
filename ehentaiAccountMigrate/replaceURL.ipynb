{
 "cells": [
  {
   "metadata": {
    "ExecuteTime": {
     "end_time": "2024-09-20T14:02:52.437214Z",
     "start_time": "2024-09-20T14:02:52.432215Z"
    }
   },
   "cell_type": "code",
   "source": [
    "with open('ehentaiURL.txt', 'r') as file:\n",
    "    data = file.readlines()\n",
    "\n",
    "# Replace 'e-hentai.org' with 'exhentai.org' in each line\n",
    "data = [line.replace('e-hentai.org', 'exhentai.org') for line in data]\n",
    "\n",
    "# Write the modified data back to the file\n",
    "with open('exhentaiURL.txt', 'w') as file:\n",
    "    file.writelines(data)"
   ],
   "id": "776dcaa66e85160c",
   "outputs": [],
   "execution_count": 3
  },
  {
   "metadata": {
    "ExecuteTime": {
     "end_time": "2024-09-20T14:17:17.908348Z",
     "start_time": "2024-09-20T14:17:17.888888Z"
    }
   },
   "cell_type": "code",
   "source": [
    "import re\n",
    "\n",
    "# 读取原始文件\n",
    "with open('exhentaiURL.txt', 'r') as file:\n",
    "    lines = file.readlines()\n",
    "\n",
    "# 创建一个新的列表存储替换后的 URL\n",
    "new_url_list = []\n",
    "\n",
    "# 正则表达式匹配 gid 和 t\n",
    "pattern = r\"https://exhentai\\.org/g/(\\d+)/([a-zA-Z0-9]+)/\"\n",
    "\n",
    "for line in lines:\n",
    "    # 提取 URL 部分\n",
    "    match = re.match(pattern, line)\n",
    "    if match:\n",
    "        gid = match.group(1)\n",
    "        t = match.group(2)\n",
    "        # 构建新的 URL\n",
    "        new_url = f\"https://exhentai.org/gallerypopups.php?gid={gid}&t={t}&act=addfav\"\n",
    "        new_url_list.append(new_url)\n",
    "\n",
    "# 将新的 URL 列表写入到新 txt 文件中\n",
    "with open('favorURL.txt', 'w') as file:\n",
    "    for new_url in new_url_list:\n",
    "        file.write(new_url + '\\n')\n",
    "\n",
    "print(\"所有新的 URL 已成功写入 output.txt 文件中。\")\n",
    "\n",
    "\n"
   ],
   "id": "87db23628e14eb34",
   "outputs": [
    {
     "name": "stdout",
     "output_type": "stream",
     "text": [
      "所有新的 URL 已成功写入 output.txt 文件中。\n"
     ]
    }
   ],
   "execution_count": 4
  },
  {
   "metadata": {
    "ExecuteTime": {
     "end_time": "2024-09-20T14:39:01.100561Z",
     "start_time": "2024-09-20T14:39:01.085853Z"
    }
   },
   "cell_type": "code",
   "source": [
    "import re\n",
    "\n",
    "# 读取原始文件并去除空行\n",
    "with open('exhentaiURL.txt', 'r') as file:\n",
    "    lines = file.readlines()\n",
    "\n",
    "# 标签到 XPath 的映射字典\n",
    "tag_to_xpath = {\n",
    "    \"Doujinshi\": \"/html/body/div/form/div/div[1]/div[1]/div[3]\",\n",
    "    \"Manga\": \"/html/body/div/form/div/div[1]/div[2]/div[3]\",\n",
    "    \"Artist CG\": \"/html/body/div/form/div/div[1]/div[3]/div[3]\",\n",
    "    \"Game CG\": \"/html/body/div/form/div/div[1]/div[4]/div[3]\",\n",
    "    \"Western\": \"/html/body/div/form/div/div[1]/div[5]/div[3]\",\n",
    "    \"Non-H\": \"/html/body/div/form/div/div[1]/div[6]/div[3]\",\n",
    "    \"Image Set\": \"/html/body/div/form/div/div[1]/div[7]/div[3]\",\n",
    "    \"Cosplay\": \"/html/body/div/form/div/div[1]/div[8]/div[3]\",\n",
    "    \"Misc\": \"/html/body/div/form/div/div[1]/div[9]/div[3]\"\n",
    "}\n",
    "\n",
    "# 正则表达式匹配 gid 和 t\n",
    "pattern = r\"https://exhentai\\.org/g/(\\d+)/([a-zA-Z0-9]+)/\"\n",
    "\n",
    "# 创建一个新的列表存储替换后的 URL 和标签\n",
    "new_url_list = []\n",
    "\n",
    "# 处理每一行，确保第一行也被读取\n",
    "for line in lines:\n",
    "    # 检查是否是空行\n",
    "    if line.strip() == '':\n",
    "        continue  # 跳过空行\n",
    "    \n",
    "    # 提取 URL 部分\n",
    "    match = re.match(pattern, line)\n",
    "    if match:\n",
    "        gid = match.group(1)\n",
    "        t = match.group(2)\n",
    "        # 获取标签部分，假设它在 URL 后面，并用制表符或空格分隔\n",
    "        parts = line.strip().split('\\t')\n",
    "        if len(parts) > 1:\n",
    "            tag = parts[-1]\n",
    "            # 如果标签在映射表中，替换为对应的 XPath\n",
    "            if tag in tag_to_xpath:\n",
    "                xpath = tag_to_xpath[tag]\n",
    "                # 构建新的 URL 和 XPath\n",
    "                new_url = f\"https://exhentai.org/gallerypopups.php?gid={gid}&t={t}&act=addfav\\t{xpath}\"\n",
    "                new_url_list.append(new_url)\n",
    "\n",
    "# 将新的 URL 列表写入到新 txt 文件中\n",
    "with open('favorTable.txt', 'w') as file:\n",
    "    for new_url in new_url_list:\n",
    "        file.write(new_url + '\\n')\n",
    "\n",
    "print(\"所有新的 URL 和标签已成功写入 favorTable.txt 文件中。\")\n"
   ],
   "id": "4d261506c5a4861a",
   "outputs": [
    {
     "name": "stdout",
     "output_type": "stream",
     "text": [
      "所有新的 URL 和标签已成功写入 output.txt 文件中。\n"
     ]
    }
   ],
   "execution_count": 6
  }
 ],
 "metadata": {
  "kernelspec": {
   "display_name": "Python 3",
   "language": "python",
   "name": "python3"
  },
  "language_info": {
   "codemirror_mode": {
    "name": "ipython",
    "version": 2
   },
   "file_extension": ".py",
   "mimetype": "text/x-python",
   "name": "python",
   "nbconvert_exporter": "python",
   "pygments_lexer": "ipython2",
   "version": "2.7.6"
  }
 },
 "nbformat": 4,
 "nbformat_minor": 5
}
